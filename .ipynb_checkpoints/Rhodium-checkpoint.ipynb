{
 "cells": [
  {
   "cell_type": "markdown",
   "metadata": {},
   "source": [
    "This page demonstrates the current functionality of [Rhodium](https://github.com/Project-Platypus/Rhodium), a Python library for exploratory modelling and robust decision making."
   ]
  },
  {
   "cell_type": "markdown",
   "metadata": {},
   "source": [
    "## Defining the Model"
   ]
  },
  {
   "cell_type": "markdown",
   "metadata": {},
   "source": [
    "Begin by importing the necessary libraries.  We also adjust some plotting options to improve the appearance of plots in your web browser."
   ]
  },
  {
   "cell_type": "code",
   "execution_count": 1,
   "metadata": {},
   "outputs": [],
   "source": [
    "from rhodium import *\n",
    "\n",
    "# plotting options\n",
    "%matplotlib inline\n",
    "sns.set()\n",
    "sns.set_style('darkgrid')"
   ]
  },
  {
   "cell_type": "markdown",
   "metadata": {},
   "source": [
    "Next, we define our model.  The model can be any Python function, with any number of input arguments.  The names of the input arguments will become important later.  The model can also return any number of outputs.  For this example, we will use the [lake problem](https://github.com/OpenMORDM/OpenMORDM/wiki/Defining%20a%20Model):"
   ]
  },
  {
   "cell_type": "code",
   "execution_count": 2,
   "metadata": {},
   "outputs": [],
   "source": [
    "from scipy.optimize import brentq as root\n",
    "\n",
    "def lake_problem(pollution_limit,\n",
    "         b = 0.42,        # decay rate for P in lake (0.42 = irreversible)\n",
    "         q = 2.0,         # recycling exponent\n",
    "         mean = 0.02,     # mean of natural inflows\n",
    "         stdev = 0.001,   # standard deviation of natural inflows\n",
    "         alpha = 0.4,     # utility from pollution\n",
    "         delta = 0.98,    # future utility discount rate\n",
    "         nsamples = 100): # monte carlo sampling of natural inflows)\n",
    "    Pcrit = root(lambda x: x**q/(1+x**q) - b*x, 0.01, 1.5)\n",
    "    nvars = len(pollution_limit)\n",
    "    X = np.zeros((nvars,))\n",
    "    average_daily_P = np.zeros((nvars,))\n",
    "    decisions = np.array(pollution_limit)\n",
    "    reliability = 0.0\n",
    "\n",
    "    for _ in range(nsamples):\n",
    "        X[0] = 0.0\n",
    "        \n",
    "        natural_inflows = np.random.lognormal(\n",
    "                math.log(mean**2 / math.sqrt(stdev**2 + mean**2)),\n",
    "                math.sqrt(math.log(1.0 + stdev**2 / mean**2)),\n",
    "                size = nvars)\n",
    "        \n",
    "        for t in range(1,nvars):\n",
    "            X[t] = (1-b)*X[t-1] + X[t-1]**q/(1+X[t-1]**q) + decisions[t-1] + natural_inflows[t-1]\n",
    "            average_daily_P[t] += X[t]/float(nsamples)\n",
    "    \n",
    "        reliability += np.sum(X < Pcrit)/float(nsamples*nvars)\n",
    "      \n",
    "    max_P = np.max(average_daily_P)\n",
    "    utility = np.sum(alpha*decisions*np.power(delta,np.arange(nvars)))\n",
    "    intertia = np.sum(np.diff(decisions) > -0.02)/float(nvars-1)\n",
    "    \n",
    "    return (max_P, utility, intertia, reliability)"
   ]
  },
  {
   "cell_type": "markdown",
   "metadata": {},
   "source": [
    "Next, we define a Rhodium model.  A Rhodium model provides additional annotations for the function above.  In particular, we will identify all parameters (inputs) and responses (outputs) of interest."
   ]
  },
  {
   "cell_type": "code",
   "execution_count": 3,
   "metadata": {},
   "outputs": [],
   "source": [
    "model = Model(lake_problem)\n",
    "\n",
    "model.parameters = [Parameter(\"pollution_limit\"),\n",
    "                    Parameter(\"b\"),\n",
    "                    Parameter(\"q\"),\n",
    "                    Parameter(\"mean\"),\n",
    "                    Parameter(\"stdev\"),\n",
    "                    Parameter(\"delta\")]\n",
    "\n",
    "model.responses = [Response(\"max_P\", Response.MINIMIZE),\n",
    "                   Response(\"utility\", Response.MAXIMIZE),\n",
    "                   Response(\"inertia\", Response.MAXIMIZE),\n",
    "                   Response(\"reliability\", Response.MAXIMIZE)]"
   ]
  },
  {
   "cell_type": "markdown",
   "metadata": {},
   "source": [
    "Parameter names must match the argument name in the Python function.  You can also define default values for parameters, but it will fall back to using any default values in the function definition.  Responses identify the model outputs.  In addition to providing a name for each response, you can also specify if the response is an objective to be minimized or maximized, or indicate the response is \"informational\" and should not be optimized.\n",
    "\n",
    "Rhodium also supports constraints.  For example, we could define a constraint on reliability.  Note how the constraint is a valid Python expression that can reference any parameter or response.  You should in general try to keep each constraint simple, such as simple equality or inequality expressions, which will help improve the performance of the optimization algorithm."
   ]
  },
  {
   "cell_type": "code",
   "execution_count": 4,
   "metadata": {},
   "outputs": [],
   "source": [
    "model.constraints = [Constraint(\"reliability >= 0.95\")]"
   ]
  },
  {
   "cell_type": "markdown",
   "metadata": {},
   "source": [
    "Or we could have an unconstrained problem, in which case we simply do not define any constraints:"
   ]
  },
  {
   "cell_type": "code",
   "execution_count": 5,
   "metadata": {},
   "outputs": [],
   "source": [
    "model.constraints = []"
   ]
  },
  {
   "cell_type": "markdown",
   "metadata": {},
   "source": [
    "At this point, the model is ready for use with Rhodium."
   ]
  },
  {
   "cell_type": "markdown",
   "metadata": {},
   "source": [
    "## Optimizing the Model"
   ]
  },
  {
   "cell_type": "markdown",
   "metadata": {},
   "source": [
    "With the model defined, we can perform a variety of analyses within Rhodium.  First we will demonstrate optimizing the model.  Rhodium will attempt the optimize the responses you defined subject to any constraints by tweaking levers.  Levers are parameters that we can control when implementing a policy.  For the lake problem, we are controlling the amount of pollution released yearly into the lake.  Thus, we will define a lever for our `pollution_limit` parameter to be 100 values between 0.0 and 0.1."
   ]
  },
  {
   "cell_type": "code",
   "execution_count": 6,
   "metadata": {},
   "outputs": [],
   "source": [
    "model.levers = [RealLever(\"pollution_limit\", 0.0, 0.1, length=100)]"
   ]
  },
  {
   "cell_type": "markdown",
   "metadata": {},
   "source": [
    "Next, we call `optimize` to optimize the problem.  The optimization algorithm will iteratively adjust the levers while searching for an optimal policy.  If more than one response is defined, such as in this example, then typically many Pareto optimal responses can be found.  None of the identified Pareto optimal policies is better than any other; instead they form a tradeoff among the responses, some with better performance with respect to one or more responses but worse in others.  Running the optimization below, we should find many optimal policies:"
   ]
  },
  {
   "cell_type": "code",
   "execution_count": 7,
   "metadata": {},
   "outputs": [
    {
     "name": "stdout",
     "output_type": "stream",
     "text": [
      "here\n",
      "Found 100 optimal policies!\n"
     ]
    }
   ],
   "source": [
    "output = optimize(model, \"NSGAII\", 1000)\n",
    "print(\"Found\", len(output), \"optimal policies!\")"
   ]
  },
  {
   "cell_type": "markdown",
   "metadata": {},
   "source": [
    "Here, `output` is a Rhodium data set containing one or more optimal policies.  We can reference specific policies by index, such as `output[5]`, or by searching for a policy with certain traits using the `find`, `find_min`, and `find_max` methods.  For example:"
   ]
  },
  {
   "cell_type": "code",
   "execution_count": 8,
   "metadata": {},
   "outputs": [],
   "source": [
    "policy = output[5]\n",
    "policy = output.find_max(\"reliability\")\n",
    "policies = output.find(\"utility > 0.5\")"
   ]
  },
  {
   "cell_type": "markdown",
   "metadata": {},
   "source": [
    "As demonstrated above, a Rhodium data set acts like a list with additional methods for querying data.  Each entry (aka policy) within the dataset is a Python dictionary mapping keys to values.  The key corresponds to the name of the parameter or response we defined in the model.  For example, we can print information about a selected policy:"
   ]
  },
  {
   "cell_type": "code",
   "execution_count": 9,
   "metadata": {},
   "outputs": [
    {
     "name": "stdout",
     "output_type": "stream",
     "text": [
      "Max Phosphorus in Lake: 2.091945376900404\n",
      "Utility:                0.5137003659412663\n",
      "Inertia:                0.7575757575757576\n",
      "Reliability:            0.6347999999999998\n"
     ]
    }
   ],
   "source": [
    "policy = output.find_max(\"reliability\")\n",
    "\n",
    "print(\"Max Phosphorus in Lake:\", policy[\"max_P\"])\n",
    "print(\"Utility:               \", policy[\"utility\"])\n",
    "print(\"Inertia:               \", policy[\"inertia\"])\n",
    "print(\"Reliability:           \", policy[\"reliability\"])"
   ]
  },
  {
   "cell_type": "markdown",
   "metadata": {},
   "source": [
    "We can also use the `apply` method to perform calculations on the data.  The expression can reference any keys (the parameters and responses) that are defined in the policy."
   ]
  },
  {
   "cell_type": "code",
   "execution_count": 10,
   "metadata": {},
   "outputs": [
    {
     "name": "stdout",
     "output_type": "stream",
     "text": [
      "OrderedDict([('pollution_limit', [0.09714275320872445, 0.0741024823674076, 0.08838773695137882, 0.09291731967292916, 0.09124840011703388, 0.07558357265762299, 0.06962778387394766, 0.0892784937157158, 0.014877196641085368, 0.07554252038369297, 0.08403473067363383, 0.020841324982738198, 0.08628943382484665, 0.09084888887117742, 0.017863531711986864, 0.09890315531147681, 0.09776915517971607, 0.08251907078294103, 0.07492746133772199, 0.08671301018541713, 0.09481213990901641, 0.057055868398673604, 0.06277554411907561, 0.06343870270717056, 0.059154715898863605, 0.020558623029503276, 0.012414423036747432, 0.07166479847828822, 0.03349996125526872, 0.07623659596474663, 0.0857142691024331, 0.06556134693488096, 0.08421324522603618, 0.06658612860044935, 0.07853120438584198, 0.03471976568894568, 0.05640810837786184, 0.055675480495894346, 0.05720231640128885, 0.051579622192249576, 0.0911470780952043, 0.06821700690948033, 0.08109229086995749, 0.04643578764781403, 0.09189717376898265, 0.0734106414168292, 0.032531462661573626, 0.07065197165818093, 0.002439002149527178, 0.06613488204485526, 0.0952390214612042, 0.06733676606735749, 0.08706044252162068, 0.08183991692950887, 0.04603731291486189, 0.09336207982713149, 0.07457043508407002, 0.09870062894326358, 0.055699775046575015, 0.013925818221766417, 0.08741748990374833, 0.03981021423467645, 0.0794987261601734, 0.07521252916025278, 0.07760048014844637, 0.07171163894155239, 0.09109654066285017, 0.06189133043184324, 0.016855952197217885, 0.09126666711821035, 0.09317500914765353, 0.0861763732104157, 0.03048558903555784, 0.01289799522246008, 0.08226791281594487, 0.06934962107620173, 0.043695086615848304, 0.046972677452748836, 0.08855417334257591, 0.09649137548084723, 0.07409560773992793, 0.08834040465180351, 0.038321565884514436, 0.009405509584531749, 0.09559027846560626, 0.0944731627477414, 0.0031936596954199588, 0.06722765357188759, 0.09299234345125984, 0.09288484257544685, 0.08127430602619373, 0.08079730978843769, 0.06323436836825203, 0.05961400091028735, 0.0733633002402033, 0.07987009365806577, 0.004254237288945195, 0.033789069706381354, 0.031880192254564316, 0.06429318523672374]), ('max_P', 2.220760769152743), ('utility', 1.1821319054458685), ('inertia', 0.7272727272727273), ('reliability', 0.07999999999999996)])\n",
      "[6.606272851099614, 4.204372589127973, 3.3153668760860673, 6.975236187377356, 3.0586523799687346, 6.858820604172916, 6.27218594132446, 3.111422170536372, 3.9576675736277895, 3.770439221727549, 3.853719438809286, 6.4180286148721875, 3.5439842776524553, 5.627032410200103, 4.073826534625725, 3.725866927951228, 5.82279630666462, 3.5044001930094577, 5.859044634141875, 3.1998423707443813, 3.9813298188469854, 3.9429442853442955, 5.118774778123053, 6.68362463813876, 6.619689135856648, 4.335029989464461, 6.288236785378432, 5.172208998190759, 3.7621393127968332, 6.614363202981774, 5.346761725332174, 5.932438543376439, 3.8711165121772586, 4.435197173945059, 3.2950627395196794, 5.882786628292902, 4.662894244055158, 4.071694812388818, 4.178833195493642, 4.329941458301123, 3.60771878470289, 5.511922231750328, 6.066739085987576, 6.26600086197399, 6.016833264167064, 6.447732559995624, 3.987704959369646, 5.930730516162009, 3.131464064596401, 6.897140090497058, 6.973712546567667, 4.949834824350542, 3.3088798060618476, 4.410069701480081, 4.629678609558128, 3.1966058136177407, 3.2991166226495348, 6.711101124115557, 5.387099539225811, 3.193709568674195, 4.085088205870265, 5.112957879667678, 3.3070751567815293, 6.615825796221822, 3.8640257415838053, 4.871189502758105, 3.3512486080459754, 4.335618050675962, 5.104284136458835, 3.4418759332429096, 3.5651150208773386, 5.826534576655221, 3.9406071905543385, 6.769778359789945, 3.3416235894129898, 5.1213790567327315, 6.770101395233261, 3.9721771207341474, 4.81555698563044, 4.600981248812328, 4.4646957648306405, 5.112606334186542, 3.2692173474481367, 3.7736086455751465, 5.709273605873462, 3.9461255509084685, 5.254084824678346, 5.223525171212108, 5.599639392591239, 4.50677761194961, 4.6836856639477125, 3.935208054124966, 5.271167673191796, 5.823286579035687, 3.401900586800794, 4.374106621949384, 5.218814642657238, 5.235268195242787, 4.909925265885088, 3.6377128347959964]\n"
     ]
    }
   ],
   "source": [
    "print(output[0])\n",
    "result = output.apply(\"sum(pollution_limit)\")\n",
    "print(result)"
   ]
  },
  {
   "cell_type": "markdown",
   "metadata": {},
   "source": [
    "Here, the `apply` method returns a list storing the sum of the yearly pollution limits for each policy.  If we instead use an assignment in the expression, as shown below, we can calculate and add a new field to the dataset."
   ]
  },
  {
   "cell_type": "code",
   "execution_count": 11,
   "metadata": {},
   "outputs": [],
   "source": [
    "output.apply(\"total_pollution = sum(pollution_limit)\");\n",
    "policy = output.find_min(\"total_pollution\")"
   ]
  },
  {
   "cell_type": "markdown",
   "metadata": {},
   "source": [
    "For some analyses, it can be useful to have this data in other formats, such as Pandas' `DataFrame` and Numpy's `ndarray`.  Rhodium can convert its data sets into these other formats:"
   ]
  },
  {
   "cell_type": "code",
   "execution_count": 12,
   "metadata": {
    "scrolled": true
   },
   "outputs": [],
   "source": [
    "df = output.as_dataframe()\n",
    "arr = output.as_array()"
   ]
  },
  {
   "cell_type": "markdown",
   "metadata": {},
   "source": [
    "## Plotting"
   ]
  },
  {
   "cell_type": "markdown",
   "metadata": {},
   "source": [
    "While Rhodium provides many tools to manipulate, query, and explore the raw data, it is often more convenient to inspect the results visually.  For example, here are the Pareto optimal policies in a 2D scatter plot:"
   ]
  },
  {
   "cell_type": "code",
   "execution_count": 13,
   "metadata": {},
   "outputs": [
    {
     "data": {
      "image/png": "[encoded data removed]",
      "text/plain": [
       "<Figure size 432x288 with 2 Axes>"
      ]
     },
     "metadata": {},
     "output_type": "display_data"
    }
   ],
   "source": [
    "fig = scatter2d(model, output)"
   ]
  },
  {
   "cell_type": "markdown",
   "metadata": {},
   "source": [
    "Rhodium by default assumes that it should plot the model responses.  These responses are automatically plotted on the x, y, z (for 3D plots), color, and size axes.  This can be customized.  For example, we can color each point with their reliability:"
   ]
  },
  {
   "cell_type": "code",
   "execution_count": 14,
   "metadata": {},
   "outputs": [
    {
     "data": {
      "image/png": "[encoded data removed]",
      "text/plain": [
       "<Figure size 432x288 with 2 Axes>"
      ]
     },
     "metadata": {},
     "output_type": "display_data"
    }
   ],
   "source": [
    "fig = scatter2d(model, output, c=\"reliability\")"
   ]
  },
  {
   "cell_type": "markdown",
   "metadata": {},
   "source": [
    "It is also possible to group or classify policies together using brushing.  Brushing in Rhodium uses Python expressions to match the policies of interest.  When plotting with brushes, the points will be highlighted if they match the brush:"
   ]
  },
  {
   "cell_type": "code",
   "execution_count": 15,
   "metadata": {},
   "outputs": [
    {
     "ename": "ValueError",
     "evalue": "The number of FixedLocator locations (0), usually from a call to set_ticks, does not match the number of ticklabels (2).",
     "output_type": "error",
     "traceback": [
      "\u001b[1;31m---------------------------------------------------------------------------\u001b[0m",
      "\u001b[1;31mValueError\u001b[0m                                Traceback (most recent call last)",
      "\u001b[1;32m<ipython-input-15-e5f4819e8097>\u001b[0m in \u001b[0;36m<module>\u001b[1;34m\u001b[0m\n\u001b[0;32m      1\u001b[0m fig = scatter2d(model, output,\n\u001b[1;32m----> 2\u001b[1;33m                 brush=[Brush(\"reliability > 0.2\"), Brush(\"reliability <= 0.2\")])\n\u001b[0m\u001b[0;32m      3\u001b[0m \u001b[1;33m\u001b[0m\u001b[0m\n",
      "\u001b[1;32mc:\\users\\yifz\\pycharmprojects\\rhodium\\rhodium\\rhodium\\plot.py\u001b[0m in \u001b[0;36mscatter2d\u001b[1;34m(model, data, x, y, c, s, s_range, show_colorbar, show_legend, interactive, brush, is_class, colors, **kwargs)\u001b[0m\n\u001b[0;32m    361\u001b[0m             \u001b[0mcb\u001b[0m \u001b[1;33m=\u001b[0m \u001b[0mfig\u001b[0m\u001b[1;33m.\u001b[0m\u001b[0mcolorbar\u001b[0m\u001b[1;33m(\u001b[0m\u001b[0mhandle\u001b[0m\u001b[1;33m,\u001b[0m \u001b[0mshrink\u001b[0m\u001b[1;33m=\u001b[0m\u001b[1;36m0.5\u001b[0m\u001b[1;33m,\u001b[0m \u001b[0maspect\u001b[0m\u001b[1;33m=\u001b[0m\u001b[1;36m5\u001b[0m\u001b[1;33m,\u001b[0m \u001b[0mticks\u001b[0m\u001b[1;33m=\u001b[0m\u001b[0mticks\u001b[0m\u001b[1;33m)\u001b[0m\u001b[1;33m\u001b[0m\u001b[1;33m\u001b[0m\u001b[0m\n\u001b[0;32m    362\u001b[0m             \u001b[0mcb\u001b[0m\u001b[1;33m.\u001b[0m\u001b[0mset_label\u001b[0m\u001b[1;33m(\u001b[0m\u001b[1;34m\"\"\u001b[0m\u001b[1;33m)\u001b[0m\u001b[1;33m\u001b[0m\u001b[1;33m\u001b[0m\u001b[0m\n\u001b[1;32m--> 363\u001b[1;33m             \u001b[0mcb\u001b[0m\u001b[1;33m.\u001b[0m\u001b[0max\u001b[0m\u001b[1;33m.\u001b[0m\u001b[0mset_xticklabels\u001b[0m\u001b[1;33m(\u001b[0m\u001b[0mcolor_map\u001b[0m\u001b[1;33m.\u001b[0m\u001b[0mkeys\u001b[0m\u001b[1;33m(\u001b[0m\u001b[1;33m)\u001b[0m\u001b[1;33m)\u001b[0m\u001b[1;33m\u001b[0m\u001b[1;33m\u001b[0m\u001b[0m\n\u001b[0m\u001b[0;32m    364\u001b[0m             \u001b[0mcb\u001b[0m\u001b[1;33m.\u001b[0m\u001b[0max\u001b[0m\u001b[1;33m.\u001b[0m\u001b[0mset_yticklabels\u001b[0m\u001b[1;33m(\u001b[0m\u001b[0mcolor_map\u001b[0m\u001b[1;33m.\u001b[0m\u001b[0mkeys\u001b[0m\u001b[1;33m(\u001b[0m\u001b[1;33m)\u001b[0m\u001b[1;33m)\u001b[0m\u001b[1;33m\u001b[0m\u001b[1;33m\u001b[0m\u001b[0m\n\u001b[0;32m    365\u001b[0m \u001b[1;33m\u001b[0m\u001b[0m\n",
      "\u001b[1;32m~\\anaconda3\\envs\\farmVal_Rhodium\\lib\\site-packages\\matplotlib-3.3.1-py3.6-win-amd64.egg\\matplotlib\\axes\\_base.py\u001b[0m in \u001b[0;36mwrapper\u001b[1;34m(self, *args, **kwargs)\u001b[0m\n\u001b[0;32m     61\u001b[0m \u001b[1;33m\u001b[0m\u001b[0m\n\u001b[0;32m     62\u001b[0m         \u001b[1;32mdef\u001b[0m \u001b[0mwrapper\u001b[0m\u001b[1;33m(\u001b[0m\u001b[0mself\u001b[0m\u001b[1;33m,\u001b[0m \u001b[1;33m*\u001b[0m\u001b[0margs\u001b[0m\u001b[1;33m,\u001b[0m \u001b[1;33m**\u001b[0m\u001b[0mkwargs\u001b[0m\u001b[1;33m)\u001b[0m\u001b[1;33m:\u001b[0m\u001b[1;33m\u001b[0m\u001b[1;33m\u001b[0m\u001b[0m\n\u001b[1;32m---> 63\u001b[1;33m             \u001b[1;32mreturn\u001b[0m \u001b[0mget_method\u001b[0m\u001b[1;33m(\u001b[0m\u001b[0mself\u001b[0m\u001b[1;33m)\u001b[0m\u001b[1;33m(\u001b[0m\u001b[1;33m*\u001b[0m\u001b[0margs\u001b[0m\u001b[1;33m,\u001b[0m \u001b[1;33m**\u001b[0m\u001b[0mkwargs\u001b[0m\u001b[1;33m)\u001b[0m\u001b[1;33m\u001b[0m\u001b[1;33m\u001b[0m\u001b[0m\n\u001b[0m\u001b[0;32m     64\u001b[0m \u001b[1;33m\u001b[0m\u001b[0m\n\u001b[0;32m     65\u001b[0m         \u001b[0mwrapper\u001b[0m\u001b[1;33m.\u001b[0m\u001b[0m__module__\u001b[0m \u001b[1;33m=\u001b[0m \u001b[0mowner\u001b[0m\u001b[1;33m.\u001b[0m\u001b[0m__module__\u001b[0m\u001b[1;33m\u001b[0m\u001b[1;33m\u001b[0m\u001b[0m\n",
      "\u001b[1;32m~\\anaconda3\\envs\\farmVal_Rhodium\\lib\\site-packages\\matplotlib-3.3.1-py3.6-win-amd64.egg\\matplotlib\\cbook\\deprecation.py\u001b[0m in \u001b[0;36mwrapper\u001b[1;34m(*args, **kwargs)\u001b[0m\n\u001b[0;32m    449\u001b[0m                 \u001b[1;34m\"parameter will become keyword-only %(removal)s.\"\u001b[0m\u001b[1;33m,\u001b[0m\u001b[1;33m\u001b[0m\u001b[1;33m\u001b[0m\u001b[0m\n\u001b[0;32m    450\u001b[0m                 name=name, obj_type=f\"parameter of {func.__name__}()\")\n\u001b[1;32m--> 451\u001b[1;33m         \u001b[1;32mreturn\u001b[0m \u001b[0mfunc\u001b[0m\u001b[1;33m(\u001b[0m\u001b[1;33m*\u001b[0m\u001b[0margs\u001b[0m\u001b[1;33m,\u001b[0m \u001b[1;33m**\u001b[0m\u001b[0mkwargs\u001b[0m\u001b[1;33m)\u001b[0m\u001b[1;33m\u001b[0m\u001b[1;33m\u001b[0m\u001b[0m\n\u001b[0m\u001b[0;32m    452\u001b[0m \u001b[1;33m\u001b[0m\u001b[0m\n\u001b[0;32m    453\u001b[0m     \u001b[1;32mreturn\u001b[0m \u001b[0mwrapper\u001b[0m\u001b[1;33m\u001b[0m\u001b[1;33m\u001b[0m\u001b[0m\n",
      "\u001b[1;32m~\\anaconda3\\envs\\farmVal_Rhodium\\lib\\site-packages\\matplotlib-3.3.1-py3.6-win-amd64.egg\\matplotlib\\axis.py\u001b[0m in \u001b[0;36m_set_ticklabels\u001b[1;34m(self, labels, fontdict, minor, **kwargs)\u001b[0m\n\u001b[0;32m   1791\u001b[0m         \u001b[1;32mif\u001b[0m \u001b[0mfontdict\u001b[0m \u001b[1;32mis\u001b[0m \u001b[1;32mnot\u001b[0m \u001b[1;32mNone\u001b[0m\u001b[1;33m:\u001b[0m\u001b[1;33m\u001b[0m\u001b[1;33m\u001b[0m\u001b[0m\n\u001b[0;32m   1792\u001b[0m             \u001b[0mkwargs\u001b[0m\u001b[1;33m.\u001b[0m\u001b[0mupdate\u001b[0m\u001b[1;33m(\u001b[0m\u001b[0mfontdict\u001b[0m\u001b[1;33m)\u001b[0m\u001b[1;33m\u001b[0m\u001b[1;33m\u001b[0m\u001b[0m\n\u001b[1;32m-> 1793\u001b[1;33m         \u001b[1;32mreturn\u001b[0m \u001b[0mself\u001b[0m\u001b[1;33m.\u001b[0m\u001b[0mset_ticklabels\u001b[0m\u001b[1;33m(\u001b[0m\u001b[0mlabels\u001b[0m\u001b[1;33m,\u001b[0m \u001b[0mminor\u001b[0m\u001b[1;33m=\u001b[0m\u001b[0mminor\u001b[0m\u001b[1;33m,\u001b[0m \u001b[1;33m**\u001b[0m\u001b[0mkwargs\u001b[0m\u001b[1;33m)\u001b[0m\u001b[1;33m\u001b[0m\u001b[1;33m\u001b[0m\u001b[0m\n\u001b[0m\u001b[0;32m   1794\u001b[0m \u001b[1;33m\u001b[0m\u001b[0m\n\u001b[0;32m   1795\u001b[0m     \u001b[1;33m@\u001b[0m\u001b[0mcbook\u001b[0m\u001b[1;33m.\u001b[0m\u001b[0m_make_keyword_only\u001b[0m\u001b[1;33m(\u001b[0m\u001b[1;34m\"3.2\"\u001b[0m\u001b[1;33m,\u001b[0m \u001b[1;34m\"minor\"\u001b[0m\u001b[1;33m)\u001b[0m\u001b[1;33m\u001b[0m\u001b[1;33m\u001b[0m\u001b[0m\n",
      "\u001b[1;32m~\\anaconda3\\envs\\farmVal_Rhodium\\lib\\site-packages\\matplotlib-3.3.1-py3.6-win-amd64.egg\\matplotlib\\axis.py\u001b[0m in \u001b[0;36mset_ticklabels\u001b[1;34m(self, ticklabels, minor, **kwargs)\u001b[0m\n\u001b[0;32m   1713\u001b[0m             \u001b[1;32mif\u001b[0m \u001b[0mlen\u001b[0m\u001b[1;33m(\u001b[0m\u001b[0mlocator\u001b[0m\u001b[1;33m.\u001b[0m\u001b[0mlocs\u001b[0m\u001b[1;33m)\u001b[0m \u001b[1;33m!=\u001b[0m \u001b[0mlen\u001b[0m\u001b[1;33m(\u001b[0m\u001b[0mticklabels\u001b[0m\u001b[1;33m)\u001b[0m \u001b[1;32mand\u001b[0m \u001b[0mlen\u001b[0m\u001b[1;33m(\u001b[0m\u001b[0mticklabels\u001b[0m\u001b[1;33m)\u001b[0m \u001b[1;33m!=\u001b[0m \u001b[1;36m0\u001b[0m\u001b[1;33m:\u001b[0m\u001b[1;33m\u001b[0m\u001b[1;33m\u001b[0m\u001b[0m\n\u001b[0;32m   1714\u001b[0m                 raise ValueError(\n\u001b[1;32m-> 1715\u001b[1;33m                     \u001b[1;34m\"The number of FixedLocator locations\"\u001b[0m\u001b[1;33m\u001b[0m\u001b[1;33m\u001b[0m\u001b[0m\n\u001b[0m\u001b[0;32m   1716\u001b[0m                     \u001b[1;34mf\" ({len(locator.locs)}), usually from a call to\"\u001b[0m\u001b[1;33m\u001b[0m\u001b[1;33m\u001b[0m\u001b[0m\n\u001b[0;32m   1717\u001b[0m                     \u001b[1;34m\" set_ticks, does not match\"\u001b[0m\u001b[1;33m\u001b[0m\u001b[1;33m\u001b[0m\u001b[0m\n",
      "\u001b[1;31mValueError\u001b[0m: The number of FixedLocator locations (0), usually from a call to set_ticks, does not match the number of ticklabels (2)."
     ]
    },
    {
     "data": {
      "image/png": "[encoded data removed]",
      "text/plain": [
       "<Figure size 432x288 with 2 Axes>"
      ]
     },
     "metadata": {},
     "output_type": "display_data"
    }
   ],
   "source": [
    "fig = scatter2d(model, output,\n",
    "                brush=[Brush(\"reliability > 0.2\"), Brush(\"reliability <= 0.2\")])"
   ]
  },
  {
   "cell_type": "markdown",
   "metadata": {},
   "source": [
    "Brushing includes several additional options, such as allowing additional control over the plotting (e.g., setting color or point size).  As shown, it is possible to define more than one brush.  Also, any points not painted by a brush will appear as \"Unassigned\".  \n",
    "\n",
    "We can similary generate 3D plots in Rhodium:"
   ]
  },
  {
   "cell_type": "code",
   "execution_count": null,
   "metadata": {},
   "outputs": [],
   "source": [
    "fig = scatter3d(model, output, c=\"reliability\",\n",
    "                brush=[Brush(\"reliability > 0.2\"), Brush(\"reliability <= 0.2\")])"
   ]
  },
  {
   "cell_type": "markdown",
   "metadata": {},
   "source": [
    "2D and 3D scatter plots show the relationships between many factors.  Interpreting the relationships and interactions in a 3D plot can be challenging.  We can simplify the plotting of relationships/interactions by generating pairwise scatter plots:"
   ]
  },
  {
   "cell_type": "code",
   "execution_count": null,
   "metadata": {
    "scrolled": false
   },
   "outputs": [],
   "source": [
    "fig = pairs(model, output,\n",
    "            brush=[Brush(\"reliability > 0.2\"), Brush(\"reliability <= 0.2\")])"
   ]
  },
  {
   "cell_type": "markdown",
   "metadata": {},
   "source": [
    "Another commonly used way to view interactions between factors is parallel coordinates plots:"
   ]
  },
  {
   "cell_type": "code",
   "execution_count": null,
   "metadata": {},
   "outputs": [],
   "source": [
    "fig = parallel_coordinates(model, output, colormap=\"rainbow\", target=\"top\")"
   ]
  },
  {
   "cell_type": "markdown",
   "metadata": {},
   "source": [
    "Similar to the other plots, brushing is also supported."
   ]
  },
  {
   "cell_type": "code",
   "execution_count": null,
   "metadata": {},
   "outputs": [],
   "source": [
    "fig = parallel_coordinates(model, output, target=\"top\",\n",
    "                           brush=[Brush(\"reliability > 0.2\"), Brush(\"reliability <= 0.2\")])"
   ]
  },
  {
   "cell_type": "markdown",
   "metadata": {},
   "source": [
    "## Scenario Discovery"
   ]
  },
  {
   "cell_type": "markdown",
   "metadata": {},
   "source": [
    "Using optimization, we leveraged an automated search procedure to identify optimal policies for our model.  We can also manually explore different policies.  Recall that a policy is simply a Python dictionary with keys mapping to our parameters.  We can construct new policies by creating dictionaries with whatever parameters we wish to control.  For example, here is a policy where we allow a yearly pollution level of 0.02:"
   ]
  },
  {
   "cell_type": "code",
   "execution_count": null,
   "metadata": {
    "collapsed": true
   },
   "outputs": [],
   "source": [
    "policy = {\"pollution_limit\" : [0.02]*100}"
   ]
  },
  {
   "cell_type": "markdown",
   "metadata": {},
   "source": [
    "We can use `evaluate` to evaluate the policy and display the responses:"
   ]
  },
  {
   "cell_type": "code",
   "execution_count": null,
   "metadata": {},
   "outputs": [],
   "source": [
    "result = evaluate(model, policy)\n",
    "\n",
    "print(\"Max Phosphorus in Lake:\", result[\"max_P\"])\n",
    "print(\"Utility:               \", result[\"utility\"])\n",
    "print(\"Inertia:               \", result[\"inertia\"])\n",
    "print(\"Reliability:           \", result[\"reliability\"])"
   ]
  },
  {
   "cell_type": "markdown",
   "metadata": {},
   "source": [
    "When we evaluate the policies in this manner, we are assuming there is no uncertainty.  The default values for each parameter is used in the calculation.  We can also explore the effects of uncertainties on our policy.  First, we must define the uncertain parameters and their distributions.  Below we use uniformly-distributed uncertainties, but other distributions such as normal and log-normal are also supported."
   ]
  },
  {
   "cell_type": "code",
   "execution_count": null,
   "metadata": {
    "collapsed": true
   },
   "outputs": [],
   "source": [
    "model.uncertainties = [UniformUncertainty(\"b\", 0.1, 0.45),\n",
    "                       UniformUncertainty(\"q\", 2.0, 4.5),\n",
    "                       UniformUncertainty(\"mean\", 0.01, 0.05),\n",
    "                       UniformUncertainty(\"stdev\", 0.001, 0.005),\n",
    "                       UniformUncertainty(\"delta\", 0.93, 0.99)]"
   ]
  },
  {
   "cell_type": "markdown",
   "metadata": {},
   "source": [
    "Next, we will create many possible states-of-the-world (SOWs), each representing some combination of the uncertainty parameters.  Here, we generate 1000 SOWs:"
   ]
  },
  {
   "cell_type": "code",
   "execution_count": null,
   "metadata": {
    "collapsed": true
   },
   "outputs": [],
   "source": [
    "SOWs = sample_lhs(model, 1000)"
   ]
  },
  {
   "cell_type": "markdown",
   "metadata": {},
   "source": [
    "Then, using the `evaluate` method, we evaluate our policy in each SOW.  To do this, we need to combine our SOWs with our fixed policy.  Using the `update` function, we update each SOW with the parameters defined in our policy, namely the fixed `pollution_limit` we specified previously."
   ]
  },
  {
   "cell_type": "code",
   "execution_count": null,
   "metadata": {},
   "outputs": [],
   "source": [
    "results = evaluate(model, update(SOWs, policy))"
   ]
  },
  {
   "cell_type": "markdown",
   "metadata": {},
   "source": [
    "It can be cumbersome to explore the results from the 1000 SOWs separately.  Instead, we are really only interested in SOWs where our policy achieved a reliability of 90% or greater (conversely, we could be interested in SOWs where our system failed with poor reliability).  We \"classify\" each SOW as \"Reliable\" or \"Unreliable\":"
   ]
  },
  {
   "cell_type": "code",
   "execution_count": null,
   "metadata": {
    "collapsed": true
   },
   "outputs": [],
   "source": [
    "classification = results.apply(\"'Reliable' if reliability > 0.9 else 'Unreliable'\")"
   ]
  },
  {
   "cell_type": "markdown",
   "metadata": {},
   "source": [
    "Now we will use the Patient Rule Induction Method (PRIM) to identify the key uncertainties that cause a SOW to fall within either class.  This process is termed \"scenario discovery\".  PRIM works by restricting the dimensions (bounds) for each uncertainty that contains the SOWs of interest.  We refer to these restrictions as a \"box\".\n",
    "\n",
    "PRIM is an iterative process.  We call `find_box()` followed by `box.show_tradeoff()` to display visually the dimension restrictions in terms of two metrics: coverage and density.  Coverage measures the percentage of cases of interest contained within the box and density considers the percentage of cases within the box that are of interest.  Having a coverage and density of 100% is ideal.  Note we provide the `coi` argument to indicate we are interested in solutions classified as \"Reliable\"."
   ]
  },
  {
   "cell_type": "code",
   "execution_count": null,
   "metadata": {},
   "outputs": [],
   "source": [
    "p = Prim(results, classification, include=model.uncertainties.keys(), coi=\"Reliable\")\n",
    "box = p.find_box()\n",
    "fig = box.show_tradeoff()"
   ]
  },
  {
   "cell_type": "markdown",
   "metadata": {},
   "source": [
    "Each point in the above plot represents a sequence of restrictions on the dimensions (a peeling trajectory).  Typically, as we restrict each dimension further, we improve density but reduce coverage.  We can view the details on a specific peeling trajectory by first selecting the i-th trajectory with `box.select(i)` and running:"
   ]
  },
  {
   "cell_type": "code",
   "execution_count": null,
   "metadata": {},
   "outputs": [],
   "source": [
    "print(box)"
   ]
  },
  {
   "cell_type": "markdown",
   "metadata": {},
   "source": [
    "If you're running this example directly from Python, you can also run `box.show_details()` to produce a nicely formatted visual display of the box limits, the covered SOWs, and the box statistics.  See [here](https://github.com/Project-Platypus/PRIM/blob/master/docs/images/screenshot2.png) for an example.\n",
    "\n",
    "Classification and Regression Trees (CART) is an alternative method for scenario discovery.  Unlike PRIM, which produces a single box containing the cases of interest, CART can form disjoint partitions of the dataset.  As such, it tends to offer better classification rates at the expensive of interpretability (the partitions can become complex and difficult to understand)."
   ]
  },
  {
   "cell_type": "code",
   "execution_count": null,
   "metadata": {},
   "outputs": [],
   "source": [
    "c = Cart(results, classification, include=model.uncertainties.keys(), min_samples_leaf=50)\n",
    "c.show_tree()"
   ]
  },
  {
   "cell_type": "markdown",
   "metadata": {},
   "source": [
    "The graphic above shows each recursive partition identified by CART, color-coded by their classification.  We can also print the contents of the tree.  If the case of interest (`coi`) is specified, then it prints only those nodes with the given class, letting you compare the density and coverage of a node (including intermediate nodes) as we did with PRIM.  It also prettifies the rules as shown below."
   ]
  },
  {
   "cell_type": "code",
   "execution_count": null,
   "metadata": {},
   "outputs": [],
   "source": [
    "c.print_tree(coi=\"Reliable\")"
   ]
  },
  {
   "cell_type": "markdown",
   "metadata": {},
   "source": [
    "## Sensitivity Analysis"
   ]
  },
  {
   "cell_type": "markdown",
   "metadata": {},
   "source": [
    "Rhodium also automates the task of performing global and regional sensitivity analysis on the model uncertainties.  Rhodium provides a convenient wrapper on top of Python's [SALib](https://github.com/SALib/SALib/), allowing you to specify only the model, the response of interest, an optional policy you want to investigate, and details on the sensitivity analysis method.  Lets start with the Morris method to identify the sensitive parameters with respect to reliability:"
   ]
  },
  {
   "cell_type": "code",
   "execution_count": 1,
   "metadata": {},
   "outputs": [
    {
     "ename": "NameError",
     "evalue": "name 'sa' is not defined",
     "output_type": "error",
     "traceback": [
      "\u001b[1;31m---------------------------------------------------------------------------\u001b[0m",
      "\u001b[1;31mNameError\u001b[0m                                 Traceback (most recent call last)",
      "\u001b[1;32m<ipython-input-1-d9601a479751>\u001b[0m in \u001b[0;36m<module>\u001b[1;34m\u001b[0m\n\u001b[1;32m----> 1\u001b[1;33m \u001b[0mresult\u001b[0m \u001b[1;33m=\u001b[0m \u001b[0msa\u001b[0m\u001b[1;33m(\u001b[0m\u001b[0mmodel\u001b[0m\u001b[1;33m,\u001b[0m \u001b[1;34m\"reliability\"\u001b[0m\u001b[1;33m,\u001b[0m \u001b[0mpolicy\u001b[0m\u001b[1;33m=\u001b[0m\u001b[0mpolicy\u001b[0m\u001b[1;33m,\u001b[0m \u001b[0mmethod\u001b[0m\u001b[1;33m=\u001b[0m\u001b[1;34m\"morris\"\u001b[0m\u001b[1;33m,\u001b[0m \u001b[0mnsamples\u001b[0m\u001b[1;33m=\u001b[0m\u001b[1;36m1000\u001b[0m\u001b[1;33m,\u001b[0m \u001b[0mnum_levels\u001b[0m\u001b[1;33m=\u001b[0m\u001b[1;36m4\u001b[0m\u001b[1;33m,\u001b[0m \u001b[0mgrid_jump\u001b[0m\u001b[1;33m=\u001b[0m\u001b[1;36m2\u001b[0m\u001b[1;33m)\u001b[0m\u001b[1;33m\u001b[0m\u001b[1;33m\u001b[0m\u001b[0m\n\u001b[0m\u001b[0;32m      2\u001b[0m \u001b[0mprint\u001b[0m\u001b[1;33m(\u001b[0m\u001b[0mresult\u001b[0m\u001b[1;33m)\u001b[0m\u001b[1;33m\u001b[0m\u001b[1;33m\u001b[0m\u001b[0m\n",
      "\u001b[1;31mNameError\u001b[0m: name 'sa' is not defined"
     ]
    }
   ],
   "source": [
    "result = sa(model, \"reliability\", policy=policy, method=\"morris\", nsamples=1000, num_levels=4, grid_jump=2)\n",
    "print(result)"
   ]
  },
  {
   "cell_type": "markdown",
   "metadata": {},
   "source": [
    "Concurring with the PRIM analysis, parameters `b`, `q`, and `mean` exhibit the largest sensitivites.  Some methods, like the Morris method, only analyze the effects of parameters in isolation.  The Sobol method lets us also compute second-order and total-order indices capturing the interactions between parameters:"
   ]
  },
  {
   "cell_type": "code",
   "execution_count": null,
   "metadata": {},
   "outputs": [],
   "source": [
    "result = sa(model, \"reliability\", policy=policy, method=\"sobol\", nsamples=10000)\n",
    "print(result)"
   ]
  },
  {
   "cell_type": "markdown",
   "metadata": {
    "collapsed": true
   },
   "source": [
    "We can also visualize the results from sensitivity analysis.  For example, below we plot the first and total-order sensitivity indices for the Sobol method.  Similar 2D bar plots can be shown for all other supported methods."
   ]
  },
  {
   "cell_type": "code",
   "execution_count": null,
   "metadata": {},
   "outputs": [],
   "source": [
    "fig = result.plot()"
   ]
  },
  {
   "cell_type": "markdown",
   "metadata": {},
   "source": [
    "If using Sobol's method, we can also generate a \"spider\" or \"radial\" plot showing the second-order indices.  In the figure below, the first and total-order indices for each parameter are indicated by the solid circle and the outer ring, respectively, where a larger radius indicates larger effects.  The gray lines connecting the circles represents the second-order indices, with thicker lines corresponding to larger second-order effects."
   ]
  },
  {
   "cell_type": "code",
   "execution_count": null,
   "metadata": {},
   "outputs": [],
   "source": [
    "fig = result.plot_sobol(threshold=0.01)"
   ]
  },
  {
   "cell_type": "markdown",
   "metadata": {},
   "source": [
    "If you have a plot with a large number of parameters, it can be useful to visually group similar parameters.  For example:"
   ]
  },
  {
   "cell_type": "code",
   "execution_count": null,
   "metadata": {},
   "outputs": [],
   "source": [
    "fig = result.plot_sobol(threshold=0.01,\n",
    "                        groups={\"Lake Parameters\" : [\"b\", \"q\"],\n",
    "                                \"Natural Pollution\" : [\"mean\", \"stdev\"],\n",
    "                                \"Discounting\" : [\"delta\"]})"
   ]
  },
  {
   "cell_type": "markdown",
   "metadata": {},
   "source": [
    "Global sensitivity analysis is useful for identifying the key parameters and their interactions.  One limitation is that it does not show where the sensitivities occur.  For example, the analyis above shows that `b`, `q`, and `mean` are the three sensitive parameters, but it doesn't tell us where the parameters are having effect.  We can use one-at-a-time (OAT) or regional sensitivity analysis to explore each parameter in detail.  In OAT sensitivity analysis, we fix all parameters at their default value except one.  For this one parameter, we then sample across its entire range and observe how the response of interest changes."
   ]
  },
  {
   "cell_type": "code",
   "execution_count": null,
   "metadata": {},
   "outputs": [],
   "source": [
    "fig = oat(model, \"reliability\", policy=policy, nsamples=1000)"
   ]
  },
  {
   "cell_type": "markdown",
   "metadata": {},
   "source": [
    "The plot above shows on the left the percentage of total variance caused by each parameter.  We see that `b` and `q` contribute most to the variance.  On the right we see a line plot showing how the response of interest (reliability) changes as the sampled parameter changes.  Take `b`, for example, shown in blue.  `b` approches 100% reliability as its value increases.  On the other hand, the mean level of pollution, `mean`, causes a substantial reduction in reliability as the value increases.\n",
    "\n",
    "You may have also noticed that `q` has no effect here, contrary to what we saw from global sensitivity analysis.  Recall that OAT sensitivity analysis fixes all but one parameter at their default value.  This indicates that `q` has little to no effect when the other parameters are fixed at their default.  But since we observed large sensitivites from `q` from global sensitivity analysis, one would expect `q` would become more significant if the other parameters deviate from their default."
   ]
  },
  {
   "cell_type": "markdown",
   "metadata": {},
   "source": [
    "## Conclusion"
   ]
  },
  {
   "cell_type": "markdown",
   "metadata": {},
   "source": [
    "As demonstrated, Rhodium is a powerful tool for analyzing and exploring a model.  We demonstrated connecting Rhodium to a model written in Python.  Rhodium also supports tools for connecting to models written natively (and compiled into a dynamically-linked library or shared object), Excel models, and more.  Please visit our [Github page](https://github.com/Project-Platypus/Rhodium) to learn more."
   ]
  }
 ],
 "metadata": {
  "anaconda-cloud": {},
  "kernelspec": {
   "display_name": "Python 3",
   "language": "python",
   "name": "python3"
  },
  "language_info": {
   "codemirror_mode": {
    "name": "ipython",
    "version": 3
   },
   "file_extension": ".py",
   "mimetype": "text/x-python",
   "name": "python",
   "nbconvert_exporter": "python",
   "pygments_lexer": "ipython3",
   "version": "3.6.12"
  }
 },
 "nbformat": 4,
 "nbformat_minor": 1
}
