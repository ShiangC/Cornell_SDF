{
 "cells": [
  {
   "cell_type": "code",
   "execution_count": 29,
   "metadata": {},
   "outputs": [],
   "source": [
    "#=========================================================\n",
    "#            MACAV2METDATA FILE PARAMETERS\n",
    "#=========================================================\n",
    "dirPath='http://thredds.northwestknowledge.net:8080/thredds/dodsC/' \n",
    " \n",
    "#=========================================================\n",
    "#            MACA TARGET DATA\n",
    "#=========================================================\n",
    "lat_target=42\n",
    "lon_target=-76.501884"
   ]
  },
  {
   "cell_type": "code",
   "execution_count": 5,
   "metadata": {},
   "outputs": [
    {
     "name": "stdout",
     "output_type": "stream",
     "text": [
      "http://thredds.northwestknowledge.net:8080/thredds/dodsC/macav1metdata_dps_BNU-ESM_r1i1p1_historical_1950_2005_WUSA_monthly_aggregated.nc.html\n"
     ]
    },
    {
     "ename": "OSError",
     "evalue": "[Errno -68] NetCDF: I/O failure: b'http://thredds.northwestknowledge.net:8080/thredds/dodsC/macav1metdata_dps_BNU-ESM_r1i1p1_historical_1950_2005_WUSA_monthly_aggregated.nc.html'",
     "output_type": "error",
     "traceback": [
      "\u001b[1;31m---------------------------------------------------------------------------\u001b[0m",
      "\u001b[1;31mOSError\u001b[0m                                   Traceback (most recent call last)",
      "\u001b[1;32m<ipython-input-5-3a3732d34b53>\u001b[0m in \u001b[0;36m<module>\u001b[1;34m\u001b[0m\n\u001b[0;32m     13\u001b[0m \u001b[1;31m#             GET DATA HANDLES\u001b[0m\u001b[1;33m\u001b[0m\u001b[1;33m\u001b[0m\u001b[1;33m\u001b[0m\u001b[0m\n\u001b[0;32m     14\u001b[0m \u001b[1;31m#=========================================================\u001b[0m\u001b[1;33m\u001b[0m\u001b[1;33m\u001b[0m\u001b[1;33m\u001b[0m\u001b[0m\n\u001b[1;32m---> 15\u001b[1;33m \u001b[0mfilehandle\u001b[0m\u001b[1;33m=\u001b[0m\u001b[0mDataset\u001b[0m\u001b[1;33m(\u001b[0m\u001b[0mfullfilename\u001b[0m\u001b[1;33m)\u001b[0m\u001b[1;33m\u001b[0m\u001b[1;33m\u001b[0m\u001b[0m\n\u001b[0m\u001b[0;32m     16\u001b[0m \u001b[0mlathandle\u001b[0m\u001b[1;33m=\u001b[0m\u001b[0mfilehandle\u001b[0m\u001b[1;33m.\u001b[0m\u001b[0mvariables\u001b[0m\u001b[1;33m[\u001b[0m\u001b[1;34m'lat'\u001b[0m\u001b[1;33m]\u001b[0m\u001b[1;33m\u001b[0m\u001b[1;33m\u001b[0m\u001b[0m\n\u001b[0;32m     17\u001b[0m \u001b[0mlonhandle\u001b[0m\u001b[1;33m=\u001b[0m\u001b[0mfilehandle\u001b[0m\u001b[1;33m.\u001b[0m\u001b[0mvariables\u001b[0m\u001b[1;33m[\u001b[0m\u001b[1;34m'lon'\u001b[0m\u001b[1;33m]\u001b[0m\u001b[1;33m\u001b[0m\u001b[1;33m\u001b[0m\u001b[0m\n",
      "\u001b[1;32msrc\\netCDF4\\_netCDF4.pyx\u001b[0m in \u001b[0;36mnetCDF4._netCDF4.Dataset.__init__\u001b[1;34m()\u001b[0m\n",
      "\u001b[1;32msrc\\netCDF4\\_netCDF4.pyx\u001b[0m in \u001b[0;36mnetCDF4._netCDF4._ensure_nc_success\u001b[1;34m()\u001b[0m\n",
      "\u001b[1;31mOSError\u001b[0m: [Errno -68] NetCDF: I/O failure: b'http://thredds.northwestknowledge.net:8080/thredds/dodsC/macav1metdata_dps_BNU-ESM_r1i1p1_historical_1950_2005_WUSA_monthly_aggregated.nc.html'"
     ]
    }
   ],
   "source": [
    "lon_target=360-117.0\n",
    "from netCDF4 import Dataset\n",
    "#--------------------------------------------------------\n",
    "#  FILENAME\n",
    "#--------------------------------------------------------\n",
    "fileName='agg_macav1metdata_huss_BNU-ESM_r1i1p1_historical_1950_2005_WUSA.nc'\n",
    "#--------------------------------------------------------\n",
    "#   FORM FILENAME AND GET HANDLE TO FILE AND DATA\n",
    "#--------------------------------------------------------\n",
    "fullfilename= \"http://thredds.northwestknowledge.net:8080/thredds/dodsC/macav1metdata_dps_BNU-ESM_r1i1p1_historical_1950_2005_WUSA_monthly_aggregated.nc.html\"\n",
    "print (fullfilename)\n",
    "#=========================================================\n",
    "#             GET DATA HANDLES\n",
    "#=========================================================\n",
    "filehandle=Dataset(fullfilename)\n",
    "lathandle=filehandle.variables['lat']\n",
    "lonhandle=filehandle.variables['lon']\n",
    "timehandle=filehandle.variables['time']\n",
    "datahandle=filehandle.variables['specific_humidity']\n",
    "#for v in datahandle.variables: \n",
    "#    print(v)"
   ]
  },
  {
   "cell_type": "code",
   "execution_count": 19,
   "metadata": {},
   "outputs": [
    {
     "ename": "OSError",
     "evalue": "[Errno -68] NetCDF: I/O failure: b'http://thredds.northwestknowledge.net:8080/thredds/dodsC/MACAV2/BNU-ESM/macav2metdata_was_BNU-ESM_r1i1p1_rcp85_2096_2099_CONUS_monthly.nc'",
     "output_type": "error",
     "traceback": [
      "\u001b[1;31m---------------------------------------------------------------------------\u001b[0m",
      "\u001b[1;31mOSError\u001b[0m                                   Traceback (most recent call last)",
      "\u001b[1;32m<ipython-input-19-d262ecc02a00>\u001b[0m in \u001b[0;36m<module>\u001b[1;34m\u001b[0m\n\u001b[0;32m      1\u001b[0m \u001b[0murl\u001b[0m \u001b[1;33m=\u001b[0m \u001b[1;34m'http://thredds.northwestknowledge.net:8080/thredds/dodsC/MACAV2/BNU-ESM/macav2metdata_was_BNU-ESM_r1i1p1_rcp85_2096_2099_CONUS_monthly.nc'\u001b[0m\u001b[1;33m\u001b[0m\u001b[1;33m\u001b[0m\u001b[0m\n\u001b[1;32m----> 2\u001b[1;33m \u001b[0mdataset\u001b[0m \u001b[1;33m=\u001b[0m \u001b[0mDataset\u001b[0m\u001b[1;33m(\u001b[0m\u001b[0murl\u001b[0m\u001b[1;33m)\u001b[0m\u001b[1;33m\u001b[0m\u001b[1;33m\u001b[0m\u001b[0m\n\u001b[0m",
      "\u001b[1;32msrc\\netCDF4\\_netCDF4.pyx\u001b[0m in \u001b[0;36mnetCDF4._netCDF4.Dataset.__init__\u001b[1;34m()\u001b[0m\n",
      "\u001b[1;32msrc\\netCDF4\\_netCDF4.pyx\u001b[0m in \u001b[0;36mnetCDF4._netCDF4._ensure_nc_success\u001b[1;34m()\u001b[0m\n",
      "\u001b[1;31mOSError\u001b[0m: [Errno -68] NetCDF: I/O failure: b'http://thredds.northwestknowledge.net:8080/thredds/dodsC/MACAV2/BNU-ESM/macav2metdata_was_BNU-ESM_r1i1p1_rcp85_2096_2099_CONUS_monthly.nc'"
     ]
    }
   ],
   "source": [
    "url = 'http://thredds.northwestknowledge.net:8080/thredds/dodsC/MACAV2/BNU-ESM/macav2metdata_was_BNU-ESM_r1i1p1_rcp85_2096_2099_CONUS_monthly.nc'\n",
    "dataset = Dataset(url)"
   ]
  },
  {
   "cell_type": "code",
   "execution_count": 20,
   "metadata": {},
   "outputs": [],
   "source": [
    "testData = Dataset(\"./web_app/datasets/test_data.nc\", \"r\", format=\"NETCDF4\")\n"
   ]
  },
  {
   "cell_type": "code",
   "execution_count": 24,
   "metadata": {},
   "outputs": [
    {
     "name": "stdout",
     "output_type": "stream",
     "text": [
      "NETCDF3_CLASSIC\n",
      "<class 'netCDF4._netCDF4.Dataset'>\n",
      "root group (NETCDF3_CLASSIC data model, file format NETCDF3):\n",
      "    geospatial_bounds_crs: EPSG:4326\n",
      "    Conventions: CF-1.0\n",
      "    geospatial_bounds: POLYGON((-124.7666666333333 49.400000000000000, -124.7666666333333 25.066666666666666, -67.058333300000015 25.066666666666666, -67.058333300000015 49.400000000000000, -124.7666666333333 49.400000000000000))\n",
      "    geospatial_lat_min: 25.0631\n",
      "    geospatial_lat_max: 49.3960\n",
      "    geospatial_lon_min: -124.7722\n",
      "    geospatial_lon_max: -67.0648\n",
      "    geospatial_lon_resolution: 0.041666666666666\n",
      "    geospatial_lat_resolution: 0.041666666666666\n",
      "    geospatial_lat_units: decimal_degrees north\n",
      "    geospatial_lon_units: decimal_degrees east\n",
      "    coordinate_system: EPSG:4326\n",
      "    author: John Abatzoglou - University of Idaho, jabatzoglou@uidaho.edu\n",
      "    date: 02 July 2019\n",
      "    note1: The projection information for this file is: GCS WGS 1984.\n",
      "    note2: Citation: Abatzoglou, J.T., 2013, Development of gridded surface meteorological data for ecological applications and modeling, International Journal of Climatology, DOI: 10.1002/joc.3413\n",
      "    note3: Data in slices after last_permanent_slice (1-based) are considered provisional and subject to change with subsequent updates\n",
      "    note4: Data in slices after last_provisional_slice (1-based) are considered early and subject to change with subsequent updates\n",
      "    note5: Days correspond approximately to calendar days ending at midnight, Mountain Standard Time (7 UTC the next calendar day)\n",
      "    Metadata_Conventions: Unidata Dataset Discovery v1.0\n",
      "    title: Daily Meteorological data for continental US\n",
      "    summary: This archive contains daily surface meteorological (METDATA) data for the Continental United States at 4-km (1/24-deg) resolution. The meteorological variables are maximum/minimum temperature, precipitation amount and duration, maximum/minimum relative humidity,downward shortwave solar radiation, wind speed and direction, and specific humidity. The method utilized here combines desirable spatial attributes of gridded climate data from PRISM and desirable temporal attributes of regional-scale reanalysis and daily gauge-based precipitation from NLDAS-2 to derive a spatially and temporally complete high resolution gridded dataset of surface meteorological variables for the continental US for 1979-present. Validation of this data suggests that it can serve as a suitable surrogate for landscape-scale ecological modeling across vast unmonitored areas of the US. \n",
      "    keywords: daily precipitation, daily precipitation duration, daily maximum temperature, daily minimum temperature, daily downward shortwave solar radiation, daily specific humidity, daily maximum relative humidity, daily minimum relative humidity, daily wind speed, daily wind direction, ClimatologyMeteorologyAtmosphere, Gridded Meteorological Data, EPSCoR Data\n",
      "    id: UofIMETDATA\n",
      "    naming_authority: cida.usgs.gov\n",
      "    cdm_data_type: Grid\n",
      "    date_created: 2012-08-16\n",
      "    creator_name: Dr. John Abatzoglou\n",
      "    creator_url: http://nimbus.cos.uidaho.edu/METDATA/\n",
      "    creator_email: jabatzoglou@uidaho.edu\n",
      "    publisher_name: Center for Integrated Data Analytics\n",
      "    publisher_url: https://www.cida.usgs.gov/\n",
      "    publisher_email: dblodgett@usgs.gov\n",
      "    institution: University of Idaho\n",
      "    date_issued: 2012-08-16\n",
      "    project: METDATA\n",
      "    processing_level: Gridded Meteorogolical Data\n",
      "    acknowledgement: Whenever you publish research based on data from this archive, please reference this data by using the phrase -daily gridded meteorological data(METDATA) for the continental US- and by citing the article (Abatzoglou,2012). Further, appropriately acknowledge the National Science Foundation (NSF), Idaho EPSCoR and the individual investigators responsible for the data set.\n",
      "    contributors: Dr. John Abatzoglou\n",
      "    time_coverage_start: 1979-01-01T00:00\n",
      "    time_coverage_resolution: P1D\n",
      "    license: Freely available\n",
      "    _CoordSysBuilder: ucar.nc2.dataset.conv.CF1Convention\n",
      "    history: Grid sub-setted by USGS/CIDA Geo Data Portal\n",
      "    dimensions(sizes): day(373), lat(3), lon(4)\n",
      "    variables(dimensions): float64 precipitation_amount(day, lat, lon), float64 day(day), float64 lat(lat), float64 lon(lon)\n",
      "    groups: \n"
     ]
    }
   ],
   "source": [
    "print(testData.data_model)\n",
    "print(testData)"
   ]
  },
  {
   "cell_type": "code",
   "execution_count": 26,
   "metadata": {},
   "outputs": [
    {
     "name": "stdout",
     "output_type": "stream",
     "text": [
      "./web_app/datasets/test_data.nc\n",
      "<class 'netCDF4._netCDF4.Dataset'>\n",
      "root group (NETCDF3_CLASSIC data model, file format NETCDF3):\n",
      "    geospatial_bounds_crs: EPSG:4326\n",
      "    Conventions: CF-1.0\n",
      "    geospatial_bounds: POLYGON((-124.7666666333333 49.400000000000000, -124.7666666333333 25.066666666666666, -67.058333300000015 25.066666666666666, -67.058333300000015 49.400000000000000, -124.7666666333333 49.400000000000000))\n",
      "    geospatial_lat_min: 25.0631\n",
      "    geospatial_lat_max: 49.3960\n",
      "    geospatial_lon_min: -124.7722\n",
      "    geospatial_lon_max: -67.0648\n",
      "    geospatial_lon_resolution: 0.041666666666666\n",
      "    geospatial_lat_resolution: 0.041666666666666\n",
      "    geospatial_lat_units: decimal_degrees north\n",
      "    geospatial_lon_units: decimal_degrees east\n",
      "    coordinate_system: EPSG:4326\n",
      "    author: John Abatzoglou - University of Idaho, jabatzoglou@uidaho.edu\n",
      "    date: 02 July 2019\n",
      "    note1: The projection information for this file is: GCS WGS 1984.\n",
      "    note2: Citation: Abatzoglou, J.T., 2013, Development of gridded surface meteorological data for ecological applications and modeling, International Journal of Climatology, DOI: 10.1002/joc.3413\n",
      "    note3: Data in slices after last_permanent_slice (1-based) are considered provisional and subject to change with subsequent updates\n",
      "    note4: Data in slices after last_provisional_slice (1-based) are considered early and subject to change with subsequent updates\n",
      "    note5: Days correspond approximately to calendar days ending at midnight, Mountain Standard Time (7 UTC the next calendar day)\n",
      "    Metadata_Conventions: Unidata Dataset Discovery v1.0\n",
      "    title: Daily Meteorological data for continental US\n",
      "    summary: This archive contains daily surface meteorological (METDATA) data for the Continental United States at 4-km (1/24-deg) resolution. The meteorological variables are maximum/minimum temperature, precipitation amount and duration, maximum/minimum relative humidity,downward shortwave solar radiation, wind speed and direction, and specific humidity. The method utilized here combines desirable spatial attributes of gridded climate data from PRISM and desirable temporal attributes of regional-scale reanalysis and daily gauge-based precipitation from NLDAS-2 to derive a spatially and temporally complete high resolution gridded dataset of surface meteorological variables for the continental US for 1979-present. Validation of this data suggests that it can serve as a suitable surrogate for landscape-scale ecological modeling across vast unmonitored areas of the US. \n",
      "    keywords: daily precipitation, daily precipitation duration, daily maximum temperature, daily minimum temperature, daily downward shortwave solar radiation, daily specific humidity, daily maximum relative humidity, daily minimum relative humidity, daily wind speed, daily wind direction, ClimatologyMeteorologyAtmosphere, Gridded Meteorological Data, EPSCoR Data\n",
      "    id: UofIMETDATA\n",
      "    naming_authority: cida.usgs.gov\n",
      "    cdm_data_type: Grid\n",
      "    date_created: 2012-08-16\n",
      "    creator_name: Dr. John Abatzoglou\n",
      "    creator_url: http://nimbus.cos.uidaho.edu/METDATA/\n",
      "    creator_email: jabatzoglou@uidaho.edu\n",
      "    publisher_name: Center for Integrated Data Analytics\n",
      "    publisher_url: https://www.cida.usgs.gov/\n",
      "    publisher_email: dblodgett@usgs.gov\n",
      "    institution: University of Idaho\n",
      "    date_issued: 2012-08-16\n",
      "    project: METDATA\n",
      "    processing_level: Gridded Meteorogolical Data\n",
      "    acknowledgement: Whenever you publish research based on data from this archive, please reference this data by using the phrase -daily gridded meteorological data(METDATA) for the continental US- and by citing the article (Abatzoglou,2012). Further, appropriately acknowledge the National Science Foundation (NSF), Idaho EPSCoR and the individual investigators responsible for the data set.\n",
      "    contributors: Dr. John Abatzoglou\n",
      "    time_coverage_start: 1979-01-01T00:00\n",
      "    time_coverage_resolution: P1D\n",
      "    license: Freely available\n",
      "    _CoordSysBuilder: ucar.nc2.dataset.conv.CF1Convention\n",
      "    history: Grid sub-setted by USGS/CIDA Geo Data Portal\n",
      "    dimensions(sizes): day(373), lat(3), lon(4)\n",
      "    variables(dimensions): float64 precipitation_amount(day, lat, lon), float64 day(day), float64 lat(lat), float64 lon(lon)\n",
      "    groups: \n"
     ]
    }
   ],
   "source": [
    "lon_target=360-117.0\n",
    "from netCDF4 import Dataset\n",
    "#--------------------------------------------------------\n",
    "#  FILENAME\n",
    "#--------------------------------------------------------\n",
    "fileName='./web_app/datasets/test_data.nc'\n",
    "#--------------------------------------------------------\n",
    "#   FORM FILENAME AND GET HANDLE TO FILE AND DATA\n",
    "#--------------------------------------------------------\n",
    "fullfilename= \"./web_app/datasets/test_data.nc\"\n",
    "print (fullfilename)\n",
    "#=========================================================\n",
    "#             GET DATA HANDLES\n",
    "#=========================================================\n",
    "filehandle=Dataset(fullfilename)\n",
    "lathandle=filehandle.variables['lat']\n",
    "lonhandle=filehandle.variables['lon']\n",
    "timehandle=filehandle.variables['day']\n",
    "datahandle=filehandle.variables['precipitation_amount']\n",
    "\n",
    "print(filehandle)"
   ]
  },
  {
   "cell_type": "code",
   "execution_count": 31,
   "metadata": {},
   "outputs": [
    {
     "name": "stdout",
     "output_type": "stream",
     "text": [
      "[0.8 0.5]\n"
     ]
    }
   ],
   "source": [
    "import numpy as np\n",
    "import matplotlib.pyplot as plt\n",
    "day = 1\n",
    "#=========================================================\n",
    "#             GET DATA \n",
    "#=========================================================\n",
    "#get data\n",
    "time_num=len(timehandle)\n",
    "timeindex=range(day-1,time_num,365)  #python starts arrays at 0\n",
    "time=timehandle[timeindex]\n",
    "lat = lathandle[:]\n",
    "lon = lonhandle[:]\n",
    "#=========================================================\n",
    "#find indices of target lat/lon/day\n",
    "lat_index =  np.searchsorted(lat,lat_target,side='left')\n",
    "lon_index =  np.searchsorted(lon,lon_target,side='left')\n",
    "#check final is in right bounds\n",
    "if(lat[lat_index]>lat_target):\n",
    "\tif(lat_index!=0):\n",
    "\t\tlat_index = lat_index - 1\n",
    "if(lat[lat_index]<lat_target):\n",
    "\tif(lat_index!=len(lat)):\n",
    "\t\tlat_index =lat_index +1\n",
    "if(lon[lon_index]>lon_target):\n",
    "\tif(lon_index!=0):\n",
    "\t\tlon_index = lon_index - 1\n",
    "if(lon[lon_index]<lon_target):\n",
    "\tif(lon_index!=len(lon)):\n",
    "\t\tlon_index = lon_index + 1\n",
    "lat=lat[lat_index]\n",
    "lon=lon[lon_index]\n",
    "#=========================================================\n",
    "#get data\n",
    "data = datahandle[timeindex,lat_index,lon_index]\n",
    "print(data)"
   ]
  },
  {
   "cell_type": "code",
   "execution_count": 32,
   "metadata": {},
   "outputs": [
    {
     "data": {
      "image/png": "[encoded data removed]",
      "text/plain": [
       "<Figure size 432x288 with 1 Axes>"
      ]
     },
     "metadata": {
      "needs_background": "light"
     },
     "output_type": "display_data"
    }
   ],
   "source": [
    "yearref=1950\n",
    "years = np.arange(yearref,yearref+len(time))\n",
    "fig = plt.figure()\n",
    "ax = fig.add_subplot(111)\n",
    "ax.set_xlabel(u'Year')\n",
    "ax.set_ylabel(u'Specific Humidity')\n",
    "ax.set_title(u'Specific Humidity on Day %d ,\\n %4.2f\\u00b0N, %4.2f\\u00b0W' % (day,lat, abs(360-lon)))\n",
    "#ax.plot_date(x=time,y=data,fmt=\"b-\")\n",
    "ax.ticklabel_format(style='plain')\n",
    "ax.plot(years,data,'b-')\n",
    "plt.savefig(\"myPythonGraph.png\")\n",
    "plt.show()"
   ]
  },
  {
   "cell_type": "code",
   "execution_count": null,
   "metadata": {},
   "outputs": [],
   "source": []
  }
 ],
 "metadata": {
  "kernelspec": {
   "display_name": "PyCharm (farmVal_Rhodium)",
   "language": "python",
   "name": "pycharm-a1141332"
  },
  "language_info": {
   "codemirror_mode": {
    "name": "ipython",
    "version": 3
   },
   "file_extension": ".py",
   "mimetype": "text/x-python",
   "name": "python",
   "nbconvert_exporter": "python",
   "pygments_lexer": "ipython3",
   "version": "3.6.12"
  }
 },
 "nbformat": 4,
 "nbformat_minor": 4
}
