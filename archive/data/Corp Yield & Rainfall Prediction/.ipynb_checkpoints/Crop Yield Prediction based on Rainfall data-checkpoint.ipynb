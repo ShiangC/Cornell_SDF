{
 "cells": [
  {
   "cell_type": "code",
   "execution_count": 1,
   "metadata": {
    "_cell_guid": "b1076dfc-b9ad-4769-8c92-a6c4dae69d19",
    "_uuid": "8f2839f25d086af736a60e9eeb907d3b93b6e0e5",
    "collapsed": true
   },
   "outputs": [],
   "source": [
    "# This Python 3 environment comes with many helpful analytics libraries installed\n",
    "# It is defined by the kaggle/python docker image: https://github.com/kaggle/docker-python\n",
    "# For example, here's several helpful packages to load in \n",
    "\n",
    "import numpy as np # linear algebra\n",
    "import pandas as pd # data processing, CSV file I/O (e.g. pd.read_csv)\n",
    "import matplotlib.pyplot as plt\n",
    "# Input data files are available in the \"../input/\" directory.\n",
    "# For example, running this (by clicking run or pressing Shift+Enter) will list the files in the input directory\n",
    "\n",
    "import os\n",
    "\n",
    "# Any results you write to the current directory are saved as output."
   ]
  },
  {
   "cell_type": "code",
   "execution_count": 6,
   "metadata": {
    "_cell_guid": "79c7e3d0-c299-4dcb-8224-4455121ee9b0",
    "_uuid": "d629ff2d2480ee46fbb7e2d37f6b5fab8052498a"
   },
   "outputs": [
    {
     "name": "stdout",
     "output_type": "stream",
     "text": [
      "                 SUBDIVISION  YEAR   JAN    FEB   MAR    APR    MAY    JUN  \\\n",
      "0  ANDAMAN & NICOBAR ISLANDS  1901  49.2   87.1  29.2    2.3  528.8  517.5   \n",
      "1  ANDAMAN & NICOBAR ISLANDS  1902   0.0  159.8  12.2    0.0  446.1  537.1   \n",
      "2  ANDAMAN & NICOBAR ISLANDS  1903  12.7  144.0   0.0    1.0  235.1  479.9   \n",
      "3  ANDAMAN & NICOBAR ISLANDS  1904   9.4   14.7   0.0  202.4  304.5  495.1   \n",
      "4  ANDAMAN & NICOBAR ISLANDS  1905   1.3    0.0   3.3   26.9  279.5  628.7   \n",
      "\n",
      "     JUL    AUG    SEP    OCT    NOV    DEC  ANNUAL  Jan-Feb  Mar-May  \\\n",
      "0  365.1  481.1  332.6  388.5  558.2   33.6  3373.2    136.3    560.3   \n",
      "1  228.9  753.7  666.2  197.2  359.0  160.5  3520.7    159.8    458.3   \n",
      "2  728.4  326.7  339.0  181.2  284.4  225.0  2957.4    156.7    236.1   \n",
      "3  502.0  160.1  820.4  222.2  308.7   40.1  3079.6     24.1    506.9   \n",
      "4  368.7  330.5  297.0  260.7   25.4  344.7  2566.7      1.3    309.7   \n",
      "\n",
      "   Jun-Sep  Oct-Dec  \n",
      "0   1696.3    980.3  \n",
      "1   2185.9    716.7  \n",
      "2   1874.0    690.6  \n",
      "3   1977.6    571.0  \n",
      "4   1624.9    630.8  \n"
     ]
    }
   ],
   "source": [
    "raindata = pd.read_csv(\"rainfall_in_india_1901-2015.csv\")\n",
    "print(raindata.head())"
   ]
  },
  {
   "cell_type": "code",
   "execution_count": 7,
   "metadata": {
    "_uuid": "80ecf8492e411ca6dcbee55e37f5dffbe4db59d8"
   },
   "outputs": [
    {
     "name": "stdout",
     "output_type": "stream",
     "text": [
      "Index(['SUBDIVISION', 'YEAR', 'JAN', 'FEB', 'MAR', 'APR', 'MAY', 'JUN', 'JUL',\n",
      "       'AUG', 'SEP', 'OCT', 'NOV', 'DEC', 'ANNUAL', 'Jan-Feb', 'Mar-May',\n",
      "       'Jun-Sep', 'Oct-Dec'],\n",
      "      dtype='object')\n",
      "{'ARUNACHAL PRADESH', 'JHARKHAND', 'GUJARAT REGION', 'UTTARAKHAND', 'JAMMU & KASHMIR', 'COASTAL KARNATAKA', 'KERALA', 'NAGA MANI MIZO TRIPURA', 'RAYALSEEMA', 'WEST RAJASTHAN', 'VIDARBHA', 'ORISSA', 'NORTH INTERIOR KARNATAKA', 'LAKSHADWEEP', 'PUNJAB', 'EAST MADHYA PRADESH', 'EAST UTTAR PRADESH', 'HARYANA DELHI & CHANDIGARH', 'KONKAN & GOA', 'TAMIL NADU', 'WEST UTTAR PRADESH', 'WEST MADHYA PRADESH', 'EAST RAJASTHAN', 'ANDAMAN & NICOBAR ISLANDS', 'BIHAR', 'COASTAL ANDHRA PRADESH', 'ASSAM & MEGHALAYA', 'GANGETIC WEST BENGAL', 'TELANGANA', 'SAURASHTRA & KUTCH', 'SOUTH INTERIOR KARNATAKA', 'MATATHWADA', 'CHHATTISGARH', 'SUB HIMALAYAN WEST BENGAL & SIKKIM', 'MADHYA MAHARASHTRA', 'HIMACHAL PRADESH'}\n"
     ]
    }
   ],
   "source": [
    "print(raindata.columns)\n",
    "print(set(raindata['SUBDIVISION']))\n",
    "# ap_rain= raindata[raindata['SUBDIVISION']=='Andhra Pradesh']\n",
    "# print(set(raindata['Year']))\n",
    "# ap_rain_2000 = ap_rain[ap_rain['Year'] == 2000]\n",
    "# print(ap_rain_2000)"
   ]
  },
  {
   "cell_type": "code",
   "execution_count": null,
   "metadata": {
    "_uuid": "9c05150afa2977f1b9f447425d6468818c581f44",
    "collapsed": true
   },
   "outputs": [],
   "source": [
    "valid_states_rain = raindata[(raindata['SUBDIVISION']=='BIHAR') | (raindata['SUBDIVISION']=='KERALA') | (raindata['SUBDIVISION']=='ARUNACHAL PRADESH')|(raindata['SUBDIVISION']=='TAMIL NADU')|(raindata['SUBDIVISION']=='JAMMU & KASHMIR')|(raindata['SUBDIVISION']=='UTTARAKHAND')|(raindata['SUBDIVISION']=='ORISSA')|(raindata['SUBDIVISION']=='HIMACHAL PRADESH')|(raindata['SUBDIVISION']=='LAKSHADWEEP')|(raindata['SUBDIVISION']=='PUNJAB')|(raindata['SUBDIVISION']=='CHHATTISGARH')|(raindata['SUBDIVISION']=='ANDAMAN & NICOBAR ISLANDS')|(raindata['SUBDIVISION']=='JHARKHAND')]"
   ]
  },
  {
   "cell_type": "code",
   "execution_count": null,
   "metadata": {
    "_uuid": "2961a7f8ca3045a1ccb25e6545a842a322b998df",
    "collapsed": true
   },
   "outputs": [],
   "source": [
    "print(set(valid_states_rain['SUBDIVISION']))\n",
    "print(valid_states_rain.head())\n",
    "valid_states_rain = valid_states_rain[['SUBDIVISION','YEAR','ANNUAL']]\n",
    "print(valid_states_rain.head())\n",
    "print(valid_states_rain.describe())"
   ]
  },
  {
   "cell_type": "code",
   "execution_count": null,
   "metadata": {
    "_uuid": "416f984efb69db56c39ee3413406118f5eba3ce0",
    "collapsed": true
   },
   "outputs": [],
   "source": [
    "valid_states_rain = valid_states_rain[valid_states_rain['YEAR']>1996]"
   ]
  },
  {
   "cell_type": "code",
   "execution_count": null,
   "metadata": {
    "_uuid": "daf891949d370770c402ab11f380d3d5e2db59dc",
    "collapsed": true
   },
   "outputs": [],
   "source": [
    "valid_states_rain.columns = ['State','Year','Rainfall']\n"
   ]
  },
  {
   "cell_type": "code",
   "execution_count": null,
   "metadata": {
    "collapsed": true
   },
   "outputs": [],
   "source": [
    "valid_states_rain"
   ]
  },
  {
   "cell_type": "code",
   "execution_count": null,
   "metadata": {
    "_uuid": "1e91a4c4eeec7f71c55089fb3a07709022fd43e4",
    "collapsed": true
   },
   "outputs": [],
   "source": [
    "cropdata = pd.read_csv(\"../input/crop-dataset/my_dataset.csv\")"
   ]
  },
  {
   "cell_type": "code",
   "execution_count": null,
   "metadata": {
    "_uuid": "5666c5dd3141b024ce699b9e8b958c163500c202",
    "collapsed": true
   },
   "outputs": [],
   "source": [
    "print(set(valid_states_rain['State']))\n",
    "print(set(cropdata['State']))"
   ]
  },
  {
   "cell_type": "code",
   "execution_count": null,
   "metadata": {
    "_uuid": "8bf1f361d13cb74ee72bba7eb8db195fa7a703e1",
    "collapsed": true
   },
   "outputs": [],
   "source": [
    "valid_states_crop = cropdata[(cropdata['State']=='Bihar') | (cropdata['State']=='Kerala') | (cropdata['State']=='Arunachal Pradesh')|(cropdata['State']=='Tamil Nadu')|(cropdata['State']=='Jammu and Kashmir ')|(cropdata['State']=='Uttarakhand')|(cropdata['State']=='Odisha')|(cropdata['State']=='Himachal Pradesh')|(cropdata['State']=='Punjab')|(cropdata['State']=='Chhattisgarh')|(cropdata['State']=='Andaman and Nicobar Islands')|(cropdata['State']=='Jharkhand')]"
   ]
  },
  {
   "cell_type": "code",
   "execution_count": null,
   "metadata": {
    "_uuid": "0bf678a0568fd6ea45d8e5caae2f02498d01a07c",
    "collapsed": true
   },
   "outputs": [],
   "source": [
    "valid_states_crop"
   ]
  },
  {
   "cell_type": "code",
   "execution_count": null,
   "metadata": {
    "collapsed": true
   },
   "outputs": [],
   "source": [
    "print(set(valid_states_crop['State']))\n",
    "print(set(valid_states_rain['State']))"
   ]
  },
  {
   "cell_type": "code",
   "execution_count": null,
   "metadata": {
    "collapsed": true
   },
   "outputs": [],
   "source": [
    "valid_states_rain = valid_states_rain[valid_states_rain.State != 'LAKSHADWEEP']\n",
    "valid_states_crop = valid_states_crop.replace('Jammu and Kashmir ','Jammu and Kashmir')\n",
    "valid_states_rain = valid_states_rain.replace('UTTARAKHAND','Uttarakhand')\n",
    "valid_states_rain = valid_states_rain.replace('ORISSA','Odisha')\n",
    "valid_states_rain = valid_states_rain.replace('HIMACHAL PRADESH','Himachal Pradesh')\n",
    "valid_states_rain = valid_states_rain.replace('JHARKHAND','Jharkhand')\n",
    "valid_states_rain = valid_states_rain.replace('ARUNACHAL PRADESH','Arunachal Pradesh')\n",
    "valid_states_rain = valid_states_rain.replace('TAMIL NADU','Tamil Nadu')\n",
    "valid_states_rain = valid_states_rain.replace('CHHATTISGARH','Chhattisgarh')\n",
    "valid_states_rain = valid_states_rain.replace('JAMMU & KASHMIR','Jammu and Kashmir')\n",
    "valid_states_rain = valid_states_rain.replace('ANDAMAN & NICOBAR ISLANDS','Andaman and Nicobar Islands')\n",
    "valid_states_rain = valid_states_rain.replace('BIHAR','Bihar')\n",
    "valid_states_rain = valid_states_rain.replace('PUNJAB','Punjab')\n",
    "valid_states_rain = valid_states_rain.replace('KERALA','Kerala')\n"
   ]
  },
  {
   "cell_type": "code",
   "execution_count": null,
   "metadata": {
    "collapsed": true
   },
   "outputs": [],
   "source": [
    "print(set(valid_states_crop['State']))\n",
    "print(set(valid_states_rain['State']))"
   ]
  },
  {
   "cell_type": "code",
   "execution_count": null,
   "metadata": {
    "collapsed": true
   },
   "outputs": [],
   "source": [
    "#valid_states_crop.columns = ['State','Year','Crop','Area','Production','Rainfall']\n",
    "Rainfall_list = [0]*6997\n",
    "valid_states_crop['Rainfall'] = Rainfall_list\n"
   ]
  },
  {
   "cell_type": "code",
   "execution_count": null,
   "metadata": {
    "collapsed": true
   },
   "outputs": [],
   "source": [
    "print(valid_states_crop.head())\n",
    "print(valid_states_rain.head())"
   ]
  },
  {
   "cell_type": "code",
   "execution_count": null,
   "metadata": {
    "collapsed": true
   },
   "outputs": [],
   "source": [
    "states_set = set(valid_states_crop['State'])\n",
    "year_set = set(valid_states_crop['Year'])\n",
    "print(states_set)\n",
    "print(year_set)"
   ]
  },
  {
   "cell_type": "code",
   "execution_count": null,
   "metadata": {
    "collapsed": true
   },
   "outputs": [],
   "source": [
    "for state in states_set:\n",
    "    for year in year_set:\n",
    "        #print(valid_states_crop[valid_states_crop['State']==state]['Year'])\n",
    "        if(year in list(valid_states_crop[valid_states_crop['State']==state]['Year'])):\n",
    "            #print(state,year)\n",
    "            valid_states_crop.loc[(valid_states_crop['State']==state) & \\\n",
    "                              (valid_states_crop['Year']==year),'Rainfall']= \\\n",
    "            list(valid_states_rain[(valid_states_rain['State']==state) & \\\n",
    "                                   (valid_states_rain['Year']==year)]['Rainfall'])[0]"
   ]
  },
  {
   "cell_type": "code",
   "execution_count": null,
   "metadata": {
    "collapsed": true
   },
   "outputs": [],
   "source": [
    "valid_states_crop"
   ]
  },
  {
   "cell_type": "code",
   "execution_count": null,
   "metadata": {
    "collapsed": true
   },
   "outputs": [],
   "source": [
    "crop_data_alpha = valid_states_crop.dropna()\n",
    "crop_data_alpha = crop_data_alpha[crop_data_alpha.Production !=0.0]\n",
    "print(crop_data_alpha.head())\n",
    "print(set(crop_data_alpha['Crop']))"
   ]
  },
  {
   "cell_type": "code",
   "execution_count": null,
   "metadata": {
    "collapsed": true
   },
   "outputs": [],
   "source": [
    "crop_data_alpha = crop_data_alpha.drop('State',axis = 1)\n",
    "crop_data_alpha = crop_data_alpha.drop('Year',axis = 1)\n",
    "crop_data_alpha = crop_data_alpha.sort_values(by='Crop')\n",
    "crop_data_alpha = crop_data_alpha.reset_index(drop=True)\n",
    "print(crop_data_alpha.head())"
   ]
  },
  {
   "cell_type": "code",
   "execution_count": null,
   "metadata": {
    "collapsed": true
   },
   "outputs": [],
   "source": [
    "for index,row in crop_data_alpha.iterrows():\n",
    "    crop_data_alpha.loc[index,'Production'] = row['Production']/row['Area']\n",
    "crop_data_alpha.head()"
   ]
  },
  {
   "cell_type": "code",
   "execution_count": null,
   "metadata": {
    "collapsed": true
   },
   "outputs": [],
   "source": [
    "wheat_data = crop_data_alpha[crop_data_alpha['Crop']=='Wheat']\n",
    "print(len(wheat_data))\n",
    "print(wheat_data.head())\n",
    "print(wheat_data[wheat_data['Production']==3.0])"
   ]
  },
  {
   "cell_type": "code",
   "execution_count": null,
   "metadata": {
    "collapsed": true
   },
   "outputs": [],
   "source": [
    "plt.scatter(wheat_data['Production'],wheat_data['Rainfall'])"
   ]
  },
  {
   "cell_type": "code",
   "execution_count": null,
   "metadata": {
    "collapsed": true
   },
   "outputs": [],
   "source": [
    "potato_data = crop_data_alpha[crop_data_alpha['Crop']=='Potato']\n",
    "plt.scatter(potato_data['Production'],potato_data['Rainfall'])"
   ]
  }
 ],
 "metadata": {
  "kernelspec": {
   "display_name": "Python 3",
   "language": "python",
   "name": "python3"
  },
  "language_info": {
   "codemirror_mode": {
    "name": "ipython",
    "version": 3
   },
   "file_extension": ".py",
   "mimetype": "text/x-python",
   "name": "python",
   "nbconvert_exporter": "python",
   "pygments_lexer": "ipython3",
   "version": "3.6.1"
  }
 },
 "nbformat": 4,
 "nbformat_minor": 1
}
